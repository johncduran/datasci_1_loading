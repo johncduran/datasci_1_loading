{
  "nbformat": 4,
  "nbformat_minor": 0,
  "metadata": {
    "colab": {
      "provenance": [],
      "authorship_tag": "ABX9TyMqUD+u6G1bHTeI3OWZr3gq",
      "include_colab_link": true
    },
    "kernelspec": {
      "name": "python3",
      "display_name": "Python 3"
    },
    "language_info": {
      "name": "python"
    }
  },
  "cells": [
    {
      "cell_type": "markdown",
      "metadata": {
        "id": "view-in-github",
        "colab_type": "text"
      },
      "source": [
        "<a href=\"https://colab.research.google.com/github/johncduran/datasci_1_loading/blob/main/HHA_507_Assignment_1.ipynb\" target=\"_parent\"><img src=\"https://colab.research.google.com/assets/colab-badge.svg\" alt=\"Open In Colab\"/></a>"
      ]
    },
    {
      "cell_type": "code",
      "execution_count": 2,
      "metadata": {
        "id": "s3ZSsHxWe-d3"
      },
      "outputs": [],
      "source": [
        "import pandas as pd"
      ]
    },
    {
      "cell_type": "markdown",
      "source": [
        "#CSV"
      ],
      "metadata": {
        "id": "ycwavgn5dmKK"
      }
    },
    {
      "cell_type": "code",
      "source": [
        "csv_file_1 = '/Electric_Vehicle_Charging_Stations.csv'\n",
        "df = pd.read_csv(csv_file_1)\n",
        "print(df.head(10))"
      ],
      "metadata": {
        "colab": {
          "base_uri": "https://localhost:8080/"
        },
        "id": "U7vUDeU5ZLJt",
        "outputId": "b2bafd68-5e53-44db-b975-3e070a2c9c44"
      },
      "execution_count": 5,
      "outputs": [
        {
          "output_type": "stream",
          "name": "stdout",
          "text": [
            "                                        Station Name          Street Address  \\\n",
            "0                                      BMW OF DARIEN        138-142 Ledge Rd   \n",
            "1                       Dunkin’ - Tesla Supercharger           893 E Main St   \n",
            "2                Town of Beacon Falls - Commuter Lot           105 N Main St   \n",
            "3                                    OLD SAYBROOK VW  319 Middlesex Turnpike   \n",
            "4                             Fairfield Rail Station        80 Mill Plain Rd   \n",
            "5                                          FOUNDRY66          50 Franklin St   \n",
            "6  Corbins Corner Shopping Center - Tesla Superch...   1445 New Britain Ave.   \n",
            "7                                      GLASTONBURYEV       2327-2333 Main St   \n",
            "8                                 Whole Foods Market            150 Ledge Rd   \n",
            "9                      Mystic Marriott Hotel and Spa            625 North Rd   \n",
            "\n",
            "            City                                   Access Days Time  \\\n",
            "0         Darien                                     24 hours daily   \n",
            "1        Meriden                 24 hours daily; for Tesla use only   \n",
            "2   Beacon Falls                                     24 hours daily   \n",
            "3   Old Saybrook                                     24 hours daily   \n",
            "4      Fairfield                                     24 hours daily   \n",
            "5        Norwich                                     24 hours daily   \n",
            "6  West Hartford                 24 hours daily; for Tesla use only   \n",
            "7    Glastonbury                                     24 hours daily   \n",
            "8         Darien              8am-10pm daily; for customer use only   \n",
            "9         Groton  24 hours daily; guest use only; see front desk...   \n",
            "\n",
            "  EV Level1 EVSE Num EV Level2 EVSE Num EV DC Fast Count EV Other Info  \\\n",
            "0               NONE                  2             NONE          NONE   \n",
            "1               NONE               NONE                8          NONE   \n",
            "2               NONE                  1             NONE          NONE   \n",
            "3               NONE                  2             NONE          NONE   \n",
            "4               NONE                  2             NONE          NONE   \n",
            "5               NONE                  2             NONE          NONE   \n",
            "6               NONE               NONE                8          NONE   \n",
            "7               NONE                  2             NONE          NONE   \n",
            "8                  4               NONE             NONE          NONE   \n",
            "9               NONE                  1             NONE          NONE   \n",
            "\n",
            "               New Georeferenced Column  \n",
            "0         POINT (-73.4764687 41.072882)  \n",
            "1          POINT (-72.773473 41.527367)  \n",
            "2  POINT (-73.065583 41.44548100000001)  \n",
            "3           POINT (-72.3825 41.3102778)  \n",
            "4          POINT (-73.264511 41.143125)  \n",
            "5         POINT (-72.0741188 41.525611)  \n",
            "6          POINT (-72.759717 41.722672)  \n",
            "7         POINT (-72.6086744 41.711717)  \n",
            "8          POINT (-73.476189 41.072919)  \n",
            "9          POINT (-72.026147 41.365973)  \n"
          ]
        }
      ]
    },
    {
      "cell_type": "markdown",
      "source": [
        "This data set is from the state of conneticut showing the electric vehical charging stations available throughout the state.\n",
        "\n",
        "Columns:\n",
        "\n",
        "Station Name - Shows where the stations are located whether that be a convienece store or parking lot.\n",
        "\n",
        "Street Address - Gives the address of the station\n",
        "\n",
        "City - The city they are located at\n",
        "\n",
        "Access Days Time - When and how long the stations are available for\n",
        "\n",
        "EV Level (1-4) - This shows how fast the chargers at the stations are. The higher the level the higher the kwh they can charge at.\n",
        "\n",
        "New Georeferenced - Shows the areas using longitude and latitude where they are located."
      ],
      "metadata": {
        "id": "EPOXv_IIcUqu"
      }
    },
    {
      "cell_type": "code",
      "source": [
        "csv_file_1 = '/Electric_Vehicle_Population_Size_History.csv'\n",
        "df = pd.read_csv(csv_file_1)\n",
        "print(df.head(10))"
      ],
      "metadata": {
        "colab": {
          "base_uri": "https://localhost:8080/"
        },
        "id": "z7ioidxda6i5",
        "outputId": "1df1ba4b-1f8b-4ec7-872b-a93c18eb2582"
      },
      "execution_count": 6,
      "outputs": [
        {
          "output_type": "stream",
          "name": "stdout",
          "text": [
            "                Date  Plug-In Hybrid Electric Vehicle (PHEV) Count  \\\n",
            "0    January 31 2017                                          7687   \n",
            "1   February 28 2017                                          7888   \n",
            "2      March 31 2017                                          8092   \n",
            "3      April 30 2017                                          8286   \n",
            "4        May 31 2017                                          8497   \n",
            "5       June 30 2017                                          8751   \n",
            "6       July 31 2017                                          8931   \n",
            "7     August 31 2017                                          9147   \n",
            "8  September 30 2017                                          9374   \n",
            "9    October 31 2017                                          9649   \n",
            "\n",
            "   Battery Electric Vehicle (BEV) Count  Electric Vehicle (EV) Total  \n",
            "0                                 14738                        22425  \n",
            "1                                 15206                        23094  \n",
            "2                                 15596                        23688  \n",
            "3                                 16104                        24390  \n",
            "4                                 16569                        25066  \n",
            "5                                 16986                        25737  \n",
            "6                                 17379                        26310  \n",
            "7                                 17678                        26825  \n",
            "8                                 18078                        27452  \n",
            "9                                 18524                        28173  \n"
          ]
        }
      ]
    },
    {
      "cell_type": "markdown",
      "source": [
        "This dataset shows the number of electric vehicles registered in the state of Washington.\n",
        "\n",
        "Columns:\n",
        "\n",
        "Date - The dates the vehicles were registered\n",
        "\n",
        "Plug-In Hybrid Electric Vehicle (PHEV) Count - The number of this specific type of Hybrid\n",
        "\n",
        "\n",
        "Battery Electric Vehicle (BEV) Count - The number of this specific type of Hybrid\n",
        "\n",
        "Electric Vehicle (EV) Total - In total the number of electric vehicles\n"
      ],
      "metadata": {
        "id": "4VGXMu4id1SW"
      }
    },
    {
      "cell_type": "code",
      "source": [
        "csv_file_1 = '/NYC_EV_Fleet_Station_Network.csv'\n",
        "df = pd.read_csv(csv_file_1)\n",
        "print(df.head(10))"
      ],
      "metadata": {
        "colab": {
          "base_uri": "https://localhost:8080/"
        },
        "id": "KTDAwviWeis0",
        "outputId": "4a6aeed3-690d-4735-d48c-7fa33851a120"
      },
      "execution_count": 18,
      "outputs": [
        {
          "output_type": "stream",
          "name": "stdout",
          "text": [
            "            STATION NAME AGENCY  NO. OF PORTS       STREET            CITY  \\\n",
            "0             DOC_MOBI_1    DOC             1     Hazen St  Riker's Island   \n",
            "1    DOH 56 DRIVE NISSAN    DOH             1     56th Dr.         Maspeth   \n",
            "2   DOH BEDFORD NISSAN 1    DOH             1  Throop Ave.        Brooklyn   \n",
            "3   DOH BEDFORD NISSAN 2    DOH             1  Throop Ave.        Brooklyn   \n",
            "4  DOH BELLEVUE NISSAN 1    DOH             1     1st Ave.        New York   \n",
            "5  DOH BELLEVUE NISSAN 2    DOH             1     1st Ave.        New York   \n",
            "6       DOT LOT 190 ST 1    DOT             1   Jerome Ave           Bronx   \n",
            "7       DOT LOT 190 ST 2    DOT             1   Jerome Ave           Bronx   \n",
            "8       DOT LOT 190 ST 3    DOT             1   Jerome Ave           Bronx   \n",
            "9       DOT LOT 190 ST 4    DOT             1   Jerome Ave           Bronx   \n",
            "\n",
            "      STATE  POSTCODE    BOROUGH  \n",
            "0  New York     10474        NaN  \n",
            "1  New York     11378     QUEENS  \n",
            "2  New York     11221   BROOKLYN  \n",
            "3  New York     11221   BROOKLYN  \n",
            "4  New York     10016  MANHATTAN  \n",
            "5  New York     10016  MANHATTAN  \n",
            "6  New York     10468      BRONX  \n",
            "7  New York     10468      BRONX  \n",
            "8  New York     10468      BRONX  \n",
            "9  New York     10468      BRONX  \n"
          ]
        }
      ]
    },
    {
      "cell_type": "markdown",
      "source": [
        "This dataset shows the number of charging stations that are available to use for the NYC fleet of EVs.\n",
        "\n",
        "Columns:\n",
        "\n",
        "STATION NAME  - Shows the name of the station\n",
        "\n",
        "AGENCY - Shows which agencies' fleet is used\n",
        "\n",
        "NO. OF PORTS - How many ports are available to use at the stations\n",
        "\n",
        "STREET - The street they are located on\n",
        "\n",
        "CITY - What city they are located on\n",
        "\n",
        "STATE - In this case the state for all of them is New York\n",
        "\n",
        "POSTCODE - The postcode they belong to\n",
        "\n",
        "BOROUGH - What borough they are located at"
      ],
      "metadata": {
        "id": "Auv9wG5GmYV8"
      }
    },
    {
      "cell_type": "markdown",
      "source": [
        "#xlsx"
      ],
      "metadata": {
        "id": "mf5IngFnfqFr"
      }
    },
    {
      "cell_type": "code",
      "source": [
        "xlsx_file_1 = '/Childhood Chemical Exposures ADHD_SciHub.xlsx'\n",
        "df = pd.read_excel(xlsx_file_1)\n",
        "print(df.head(10))\n"
      ],
      "metadata": {
        "colab": {
          "base_uri": "https://localhost:8080/"
        },
        "id": "5lvfA8frfxK_",
        "outputId": "69620422-7cbd-4478-a11e-0cb294ead653"
      },
      "execution_count": 9,
      "outputs": [
        {
          "output_type": "stream",
          "name": "stdout",
          "text": [
            "   Unnamed: 0      Unnamed: 1  \\\n",
            "0         NaN             NaN   \n",
            "1         NaN    Abbreviation   \n",
            "2         NaN            ADHD   \n",
            "3         NaN      ADHD - Hyp   \n",
            "4         NaN  ADHD - Hyp/Imp   \n",
            "5         NaN     ADHD - Inat   \n",
            "6         NaN             BPA   \n",
            "7         NaN            CBCL   \n",
            "8         NaN             DSM   \n",
            "9         NaN              Hg   \n",
            "\n",
            "                                          Unnamed: 2  \n",
            "0                                                NaN  \n",
            "1                                         Definition  \n",
            "2         Attention Deficient Hyperactivity Disorder  \n",
            "3                                         Hyperative  \n",
            "4                              Hyperactive/Impulsive  \n",
            "5                                        Inattentive  \n",
            "6                                        Bisphenol A  \n",
            "7                          Child Behavior Check List  \n",
            "8  Diagnostic and Statistical Manual of Mental Di...  \n",
            "9                                            Mercury  \n"
          ]
        }
      ]
    },
    {
      "cell_type": "markdown",
      "source": [
        "This dataset shows reserachers looking into the relationship between exposure to certian chemicals and the development of ADHD\n",
        "\n",
        "Columns:\n",
        "\n",
        "Unnamed: 1 - Shows what chemicals were studied\n",
        "\n",
        "Unnamed: 2 - Showed what behaviors were most associated with those chemicals"
      ],
      "metadata": {
        "id": "h1nnZ0gJgYob"
      }
    },
    {
      "cell_type": "code",
      "source": [
        "xlsx_file_2 = '/Final Prenatal Exposure Data.xlsx'\n",
        "df = pd.read_excel(xlsx_file_2)\n",
        "print(df.head(10))"
      ],
      "metadata": {
        "colab": {
          "base_uri": "https://localhost:8080/"
        },
        "id": "8FvjQS5sh029",
        "outputId": "7c3183a9-42b9-4822-d7a6-d847563a3314"
      },
      "execution_count": 14,
      "outputs": [
        {
          "output_type": "stream",
          "name": "stdout",
          "text": [
            "   Unnamed: 0     Unnamed: 1  \\\n",
            "0         NaN   Abbreviation   \n",
            "1         NaN           ADHD   \n",
            "2         NaN    ADHD - Inat   \n",
            "3         NaN      ADHD -Hyp   \n",
            "4         NaN  ADHD -Hyp/Imp   \n",
            "5         NaN           BASC   \n",
            "6         NaN           CBCL   \n",
            "7         NaN       CBCL TRF   \n",
            "8         NaN             CD   \n",
            "9         NaN         CD/ODD   \n",
            "\n",
            "                                          Unnamed: 2  \n",
            "0                                    Complete Phrase  \n",
            "1          Attention deficiet hyperactivity disorder  \n",
            "2  Attention deficiet hyperactivity disorder - In...  \n",
            "3  Attention deficiet hyperactivity disorder - Hy...  \n",
            "4  Attention deficiet hyperactivity disorder - Hy...  \n",
            "5            Behavior Assessment System for Children  \n",
            "6                           Child Behavior Checklist  \n",
            "7     Child Behavior Checklist - Teacher Report Form  \n",
            "8                                   Conduct Disorcer  \n",
            "9   Conduct Disorder / Oppositiosnl defiant disorder  \n"
          ]
        }
      ]
    },
    {
      "cell_type": "markdown",
      "source": [
        "This dataset shows reserachers looking into the relationship between prenaltal exposure to certian chemicals and the development of certain behavioral and mental health issues.\n",
        "\n",
        "Columns:\n",
        "\n",
        "Unnamed: 1 - Shows abbreviations for many terms being used throughout the file\n",
        "\n",
        "Unnamed: 2 - Showed the same abbreviations written out in their entirety"
      ],
      "metadata": {
        "id": "NjXukRNoiy_X"
      }
    },
    {
      "cell_type": "code",
      "source": [
        "xlsx_file_3 = '/forensic-vs.-civil-open-data-portal-2006-2022.xlsx'\n",
        "df = pd.read_excel(xlsx_file_3)\n",
        "print(df.head(10))"
      ],
      "metadata": {
        "colab": {
          "base_uri": "https://localhost:8080/"
        },
        "id": "bhyHp63DkKBR",
        "outputId": "b9f7eb4f-5b93-4525-d7da-5e0bec02764c"
      },
      "execution_count": 15,
      "outputs": [
        {
          "output_type": "stream",
          "name": "stdout",
          "text": [
            "  Legal_Class FiscalYear  Patient Counts\n",
            "0       Civil  2006-2007             589\n",
            "1       Civil  2007-2008             574\n",
            "2       Civil  2008-2009             518\n",
            "3       Civil  2009-2010             494\n",
            "4       Civil  2010-2011             512\n",
            "5       Civil  2011-2012             562\n",
            "6       Civil  2012-2013             543\n",
            "7       Civil  2013-2014             585\n",
            "8       Civil  2014-2015             626\n",
            "9       Civil  2015-2016             673\n"
          ]
        }
      ]
    },
    {
      "cell_type": "markdown",
      "source": [
        "This dataset shows the amount of patients from 2006-2022 that were committed to a california state hospital if they were seen as a danger to themselves or to others.\n",
        "\n",
        "Columns:\n",
        "\n",
        "Legal_Class - This shows whether or not they were sent for a 'civil' case which means they are a danger to themselves or others. Or for a 'foresic' case meaning they committed a crime due to mental health issues.\n",
        "\n",
        "FiscalYear - Shows the year they were committed\n",
        "\n",
        "Patient Counts - The amount of patients committed during those years"
      ],
      "metadata": {
        "id": "2nFEOeh6kRuw"
      }
    },
    {
      "cell_type": "markdown",
      "source": [
        "#json"
      ],
      "metadata": {
        "id": "KZzAI6lglcJf"
      }
    },
    {
      "cell_type": "code",
      "source": [
        "json_file_1 = '/rows.json'\n",
        "df = pd.read_json(json_file_1)\n",
        "print(df.head(10))"
      ],
      "metadata": {
        "colab": {
          "base_uri": "https://localhost:8080/",
          "height": 366
        },
        "id": "J1bsf0Oklblh",
        "outputId": "2b71a241-038d-4e22-f920-2395d4d1ff66"
      },
      "execution_count": 17,
      "outputs": [
        {
          "output_type": "error",
          "ename": "ValueError",
          "evalue": "ignored",
          "traceback": [
            "\u001b[0;31m---------------------------------------------------------------------------\u001b[0m",
            "\u001b[0;31mValueError\u001b[0m                                Traceback (most recent call last)",
            "\u001b[0;32m<ipython-input-17-5d546ce37172>\u001b[0m in \u001b[0;36m<cell line: 2>\u001b[0;34m()\u001b[0m\n\u001b[1;32m      1\u001b[0m \u001b[0mjson_file_1\u001b[0m \u001b[0;34m=\u001b[0m \u001b[0;34m'/rows.json'\u001b[0m\u001b[0;34m\u001b[0m\u001b[0;34m\u001b[0m\u001b[0m\n\u001b[0;32m----> 2\u001b[0;31m \u001b[0mdf\u001b[0m \u001b[0;34m=\u001b[0m \u001b[0mpd\u001b[0m\u001b[0;34m.\u001b[0m\u001b[0mread_json\u001b[0m\u001b[0;34m(\u001b[0m\u001b[0mjson_file_1\u001b[0m\u001b[0;34m)\u001b[0m\u001b[0;34m\u001b[0m\u001b[0;34m\u001b[0m\u001b[0m\n\u001b[0m\u001b[1;32m      3\u001b[0m \u001b[0mprint\u001b[0m\u001b[0;34m(\u001b[0m\u001b[0mdf\u001b[0m\u001b[0;34m.\u001b[0m\u001b[0mhead\u001b[0m\u001b[0;34m(\u001b[0m\u001b[0;36m10\u001b[0m\u001b[0;34m)\u001b[0m\u001b[0;34m)\u001b[0m\u001b[0;34m\u001b[0m\u001b[0;34m\u001b[0m\u001b[0m\n",
            "\u001b[0;32m/usr/local/lib/python3.10/dist-packages/pandas/util/_decorators.py\u001b[0m in \u001b[0;36mwrapper\u001b[0;34m(*args, **kwargs)\u001b[0m\n\u001b[1;32m    209\u001b[0m                 \u001b[0;32melse\u001b[0m\u001b[0;34m:\u001b[0m\u001b[0;34m\u001b[0m\u001b[0;34m\u001b[0m\u001b[0m\n\u001b[1;32m    210\u001b[0m                     \u001b[0mkwargs\u001b[0m\u001b[0;34m[\u001b[0m\u001b[0mnew_arg_name\u001b[0m\u001b[0;34m]\u001b[0m \u001b[0;34m=\u001b[0m \u001b[0mnew_arg_value\u001b[0m\u001b[0;34m\u001b[0m\u001b[0;34m\u001b[0m\u001b[0m\n\u001b[0;32m--> 211\u001b[0;31m             \u001b[0;32mreturn\u001b[0m \u001b[0mfunc\u001b[0m\u001b[0;34m(\u001b[0m\u001b[0;34m*\u001b[0m\u001b[0margs\u001b[0m\u001b[0;34m,\u001b[0m \u001b[0;34m**\u001b[0m\u001b[0mkwargs\u001b[0m\u001b[0;34m)\u001b[0m\u001b[0;34m\u001b[0m\u001b[0;34m\u001b[0m\u001b[0m\n\u001b[0m\u001b[1;32m    212\u001b[0m \u001b[0;34m\u001b[0m\u001b[0m\n\u001b[1;32m    213\u001b[0m         \u001b[0;32mreturn\u001b[0m \u001b[0mcast\u001b[0m\u001b[0;34m(\u001b[0m\u001b[0mF\u001b[0m\u001b[0;34m,\u001b[0m \u001b[0mwrapper\u001b[0m\u001b[0;34m)\u001b[0m\u001b[0;34m\u001b[0m\u001b[0;34m\u001b[0m\u001b[0m\n",
            "\u001b[0;32m/usr/local/lib/python3.10/dist-packages/pandas/util/_decorators.py\u001b[0m in \u001b[0;36mwrapper\u001b[0;34m(*args, **kwargs)\u001b[0m\n\u001b[1;32m    329\u001b[0m                     \u001b[0mstacklevel\u001b[0m\u001b[0;34m=\u001b[0m\u001b[0mfind_stack_level\u001b[0m\u001b[0;34m(\u001b[0m\u001b[0;34m)\u001b[0m\u001b[0;34m,\u001b[0m\u001b[0;34m\u001b[0m\u001b[0;34m\u001b[0m\u001b[0m\n\u001b[1;32m    330\u001b[0m                 )\n\u001b[0;32m--> 331\u001b[0;31m             \u001b[0;32mreturn\u001b[0m \u001b[0mfunc\u001b[0m\u001b[0;34m(\u001b[0m\u001b[0;34m*\u001b[0m\u001b[0margs\u001b[0m\u001b[0;34m,\u001b[0m \u001b[0;34m**\u001b[0m\u001b[0mkwargs\u001b[0m\u001b[0;34m)\u001b[0m\u001b[0;34m\u001b[0m\u001b[0;34m\u001b[0m\u001b[0m\n\u001b[0m\u001b[1;32m    332\u001b[0m \u001b[0;34m\u001b[0m\u001b[0m\n\u001b[1;32m    333\u001b[0m         \u001b[0;31m# error: \"Callable[[VarArg(Any), KwArg(Any)], Any]\" has no\u001b[0m\u001b[0;34m\u001b[0m\u001b[0;34m\u001b[0m\u001b[0m\n",
            "\u001b[0;32m/usr/local/lib/python3.10/dist-packages/pandas/io/json/_json.py\u001b[0m in \u001b[0;36mread_json\u001b[0;34m(path_or_buf, orient, typ, dtype, convert_axes, convert_dates, keep_default_dates, numpy, precise_float, date_unit, encoding, encoding_errors, lines, chunksize, compression, nrows, storage_options)\u001b[0m\n\u001b[1;32m    755\u001b[0m \u001b[0;34m\u001b[0m\u001b[0m\n\u001b[1;32m    756\u001b[0m     \u001b[0;32mwith\u001b[0m \u001b[0mjson_reader\u001b[0m\u001b[0;34m:\u001b[0m\u001b[0;34m\u001b[0m\u001b[0;34m\u001b[0m\u001b[0m\n\u001b[0;32m--> 757\u001b[0;31m         \u001b[0;32mreturn\u001b[0m \u001b[0mjson_reader\u001b[0m\u001b[0;34m.\u001b[0m\u001b[0mread\u001b[0m\u001b[0;34m(\u001b[0m\u001b[0;34m)\u001b[0m\u001b[0;34m\u001b[0m\u001b[0;34m\u001b[0m\u001b[0m\n\u001b[0m\u001b[1;32m    758\u001b[0m \u001b[0;34m\u001b[0m\u001b[0m\n\u001b[1;32m    759\u001b[0m \u001b[0;34m\u001b[0m\u001b[0m\n",
            "\u001b[0;32m/usr/local/lib/python3.10/dist-packages/pandas/io/json/_json.py\u001b[0m in \u001b[0;36mread\u001b[0;34m(self)\u001b[0m\n\u001b[1;32m    913\u001b[0m                 \u001b[0mobj\u001b[0m \u001b[0;34m=\u001b[0m \u001b[0mself\u001b[0m\u001b[0;34m.\u001b[0m\u001b[0m_get_object_parser\u001b[0m\u001b[0;34m(\u001b[0m\u001b[0mself\u001b[0m\u001b[0;34m.\u001b[0m\u001b[0m_combine_lines\u001b[0m\u001b[0;34m(\u001b[0m\u001b[0mdata_lines\u001b[0m\u001b[0;34m)\u001b[0m\u001b[0;34m)\u001b[0m\u001b[0;34m\u001b[0m\u001b[0;34m\u001b[0m\u001b[0m\n\u001b[1;32m    914\u001b[0m         \u001b[0;32melse\u001b[0m\u001b[0;34m:\u001b[0m\u001b[0;34m\u001b[0m\u001b[0;34m\u001b[0m\u001b[0m\n\u001b[0;32m--> 915\u001b[0;31m             \u001b[0mobj\u001b[0m \u001b[0;34m=\u001b[0m \u001b[0mself\u001b[0m\u001b[0;34m.\u001b[0m\u001b[0m_get_object_parser\u001b[0m\u001b[0;34m(\u001b[0m\u001b[0mself\u001b[0m\u001b[0;34m.\u001b[0m\u001b[0mdata\u001b[0m\u001b[0;34m)\u001b[0m\u001b[0;34m\u001b[0m\u001b[0;34m\u001b[0m\u001b[0m\n\u001b[0m\u001b[1;32m    916\u001b[0m         \u001b[0mself\u001b[0m\u001b[0;34m.\u001b[0m\u001b[0mclose\u001b[0m\u001b[0;34m(\u001b[0m\u001b[0;34m)\u001b[0m\u001b[0;34m\u001b[0m\u001b[0;34m\u001b[0m\u001b[0m\n\u001b[1;32m    917\u001b[0m         \u001b[0;32mreturn\u001b[0m \u001b[0mobj\u001b[0m\u001b[0;34m\u001b[0m\u001b[0;34m\u001b[0m\u001b[0m\n",
            "\u001b[0;32m/usr/local/lib/python3.10/dist-packages/pandas/io/json/_json.py\u001b[0m in \u001b[0;36m_get_object_parser\u001b[0;34m(self, json)\u001b[0m\n\u001b[1;32m    935\u001b[0m         \u001b[0mobj\u001b[0m \u001b[0;34m=\u001b[0m \u001b[0;32mNone\u001b[0m\u001b[0;34m\u001b[0m\u001b[0;34m\u001b[0m\u001b[0m\n\u001b[1;32m    936\u001b[0m         \u001b[0;32mif\u001b[0m \u001b[0mtyp\u001b[0m \u001b[0;34m==\u001b[0m \u001b[0;34m\"frame\"\u001b[0m\u001b[0;34m:\u001b[0m\u001b[0;34m\u001b[0m\u001b[0;34m\u001b[0m\u001b[0m\n\u001b[0;32m--> 937\u001b[0;31m             \u001b[0mobj\u001b[0m \u001b[0;34m=\u001b[0m \u001b[0mFrameParser\u001b[0m\u001b[0;34m(\u001b[0m\u001b[0mjson\u001b[0m\u001b[0;34m,\u001b[0m \u001b[0;34m**\u001b[0m\u001b[0mkwargs\u001b[0m\u001b[0;34m)\u001b[0m\u001b[0;34m.\u001b[0m\u001b[0mparse\u001b[0m\u001b[0;34m(\u001b[0m\u001b[0;34m)\u001b[0m\u001b[0;34m\u001b[0m\u001b[0;34m\u001b[0m\u001b[0m\n\u001b[0m\u001b[1;32m    938\u001b[0m \u001b[0;34m\u001b[0m\u001b[0m\n\u001b[1;32m    939\u001b[0m         \u001b[0;32mif\u001b[0m \u001b[0mtyp\u001b[0m \u001b[0;34m==\u001b[0m \u001b[0;34m\"series\"\u001b[0m \u001b[0;32mor\u001b[0m \u001b[0mobj\u001b[0m \u001b[0;32mis\u001b[0m \u001b[0;32mNone\u001b[0m\u001b[0;34m:\u001b[0m\u001b[0;34m\u001b[0m\u001b[0;34m\u001b[0m\u001b[0m\n",
            "\u001b[0;32m/usr/local/lib/python3.10/dist-packages/pandas/io/json/_json.py\u001b[0m in \u001b[0;36mparse\u001b[0;34m(self)\u001b[0m\n\u001b[1;32m   1062\u001b[0m             \u001b[0mself\u001b[0m\u001b[0;34m.\u001b[0m\u001b[0m_parse_numpy\u001b[0m\u001b[0;34m(\u001b[0m\u001b[0;34m)\u001b[0m\u001b[0;34m\u001b[0m\u001b[0;34m\u001b[0m\u001b[0m\n\u001b[1;32m   1063\u001b[0m         \u001b[0;32melse\u001b[0m\u001b[0;34m:\u001b[0m\u001b[0;34m\u001b[0m\u001b[0;34m\u001b[0m\u001b[0m\n\u001b[0;32m-> 1064\u001b[0;31m             \u001b[0mself\u001b[0m\u001b[0;34m.\u001b[0m\u001b[0m_parse_no_numpy\u001b[0m\u001b[0;34m(\u001b[0m\u001b[0;34m)\u001b[0m\u001b[0;34m\u001b[0m\u001b[0;34m\u001b[0m\u001b[0m\n\u001b[0m\u001b[1;32m   1065\u001b[0m \u001b[0;34m\u001b[0m\u001b[0m\n\u001b[1;32m   1066\u001b[0m         \u001b[0;32mif\u001b[0m \u001b[0mself\u001b[0m\u001b[0;34m.\u001b[0m\u001b[0mobj\u001b[0m \u001b[0;32mis\u001b[0m \u001b[0;32mNone\u001b[0m\u001b[0;34m:\u001b[0m\u001b[0;34m\u001b[0m\u001b[0;34m\u001b[0m\u001b[0m\n",
            "\u001b[0;32m/usr/local/lib/python3.10/dist-packages/pandas/io/json/_json.py\u001b[0m in \u001b[0;36m_parse_no_numpy\u001b[0;34m(self)\u001b[0m\n\u001b[1;32m   1318\u001b[0m \u001b[0;34m\u001b[0m\u001b[0m\n\u001b[1;32m   1319\u001b[0m         \u001b[0;32mif\u001b[0m \u001b[0morient\u001b[0m \u001b[0;34m==\u001b[0m \u001b[0;34m\"columns\"\u001b[0m\u001b[0;34m:\u001b[0m\u001b[0;34m\u001b[0m\u001b[0;34m\u001b[0m\u001b[0m\n\u001b[0;32m-> 1320\u001b[0;31m             self.obj = DataFrame(\n\u001b[0m\u001b[1;32m   1321\u001b[0m                 \u001b[0mloads\u001b[0m\u001b[0;34m(\u001b[0m\u001b[0mjson\u001b[0m\u001b[0;34m,\u001b[0m \u001b[0mprecise_float\u001b[0m\u001b[0;34m=\u001b[0m\u001b[0mself\u001b[0m\u001b[0;34m.\u001b[0m\u001b[0mprecise_float\u001b[0m\u001b[0;34m)\u001b[0m\u001b[0;34m,\u001b[0m \u001b[0mdtype\u001b[0m\u001b[0;34m=\u001b[0m\u001b[0;32mNone\u001b[0m\u001b[0;34m\u001b[0m\u001b[0;34m\u001b[0m\u001b[0m\n\u001b[1;32m   1322\u001b[0m             )\n",
            "\u001b[0;32m/usr/local/lib/python3.10/dist-packages/pandas/core/frame.py\u001b[0m in \u001b[0;36m__init__\u001b[0;34m(self, data, index, columns, dtype, copy)\u001b[0m\n\u001b[1;32m    662\u001b[0m         \u001b[0;32melif\u001b[0m \u001b[0misinstance\u001b[0m\u001b[0;34m(\u001b[0m\u001b[0mdata\u001b[0m\u001b[0;34m,\u001b[0m \u001b[0mdict\u001b[0m\u001b[0;34m)\u001b[0m\u001b[0;34m:\u001b[0m\u001b[0;34m\u001b[0m\u001b[0;34m\u001b[0m\u001b[0m\n\u001b[1;32m    663\u001b[0m             \u001b[0;31m# GH#38939 de facto copy defaults to False only in non-dict cases\u001b[0m\u001b[0;34m\u001b[0m\u001b[0;34m\u001b[0m\u001b[0m\n\u001b[0;32m--> 664\u001b[0;31m             \u001b[0mmgr\u001b[0m \u001b[0;34m=\u001b[0m \u001b[0mdict_to_mgr\u001b[0m\u001b[0;34m(\u001b[0m\u001b[0mdata\u001b[0m\u001b[0;34m,\u001b[0m \u001b[0mindex\u001b[0m\u001b[0;34m,\u001b[0m \u001b[0mcolumns\u001b[0m\u001b[0;34m,\u001b[0m \u001b[0mdtype\u001b[0m\u001b[0;34m=\u001b[0m\u001b[0mdtype\u001b[0m\u001b[0;34m,\u001b[0m \u001b[0mcopy\u001b[0m\u001b[0;34m=\u001b[0m\u001b[0mcopy\u001b[0m\u001b[0;34m,\u001b[0m \u001b[0mtyp\u001b[0m\u001b[0;34m=\u001b[0m\u001b[0mmanager\u001b[0m\u001b[0;34m)\u001b[0m\u001b[0;34m\u001b[0m\u001b[0;34m\u001b[0m\u001b[0m\n\u001b[0m\u001b[1;32m    665\u001b[0m         \u001b[0;32melif\u001b[0m \u001b[0misinstance\u001b[0m\u001b[0;34m(\u001b[0m\u001b[0mdata\u001b[0m\u001b[0;34m,\u001b[0m \u001b[0mma\u001b[0m\u001b[0;34m.\u001b[0m\u001b[0mMaskedArray\u001b[0m\u001b[0;34m)\u001b[0m\u001b[0;34m:\u001b[0m\u001b[0;34m\u001b[0m\u001b[0;34m\u001b[0m\u001b[0m\n\u001b[1;32m    666\u001b[0m             \u001b[0;32mimport\u001b[0m \u001b[0mnumpy\u001b[0m\u001b[0;34m.\u001b[0m\u001b[0mma\u001b[0m\u001b[0;34m.\u001b[0m\u001b[0mmrecords\u001b[0m \u001b[0;32mas\u001b[0m \u001b[0mmrecords\u001b[0m\u001b[0;34m\u001b[0m\u001b[0;34m\u001b[0m\u001b[0m\n",
            "\u001b[0;32m/usr/local/lib/python3.10/dist-packages/pandas/core/internals/construction.py\u001b[0m in \u001b[0;36mdict_to_mgr\u001b[0;34m(data, index, columns, dtype, typ, copy)\u001b[0m\n\u001b[1;32m    491\u001b[0m             \u001b[0marrays\u001b[0m \u001b[0;34m=\u001b[0m \u001b[0;34m[\u001b[0m\u001b[0mx\u001b[0m\u001b[0;34m.\u001b[0m\u001b[0mcopy\u001b[0m\u001b[0;34m(\u001b[0m\u001b[0;34m)\u001b[0m \u001b[0;32mif\u001b[0m \u001b[0mhasattr\u001b[0m\u001b[0;34m(\u001b[0m\u001b[0mx\u001b[0m\u001b[0;34m,\u001b[0m \u001b[0;34m\"dtype\"\u001b[0m\u001b[0;34m)\u001b[0m \u001b[0;32melse\u001b[0m \u001b[0mx\u001b[0m \u001b[0;32mfor\u001b[0m \u001b[0mx\u001b[0m \u001b[0;32min\u001b[0m \u001b[0marrays\u001b[0m\u001b[0;34m]\u001b[0m\u001b[0;34m\u001b[0m\u001b[0;34m\u001b[0m\u001b[0m\n\u001b[1;32m    492\u001b[0m \u001b[0;34m\u001b[0m\u001b[0m\n\u001b[0;32m--> 493\u001b[0;31m     \u001b[0;32mreturn\u001b[0m \u001b[0marrays_to_mgr\u001b[0m\u001b[0;34m(\u001b[0m\u001b[0marrays\u001b[0m\u001b[0;34m,\u001b[0m \u001b[0mcolumns\u001b[0m\u001b[0;34m,\u001b[0m \u001b[0mindex\u001b[0m\u001b[0;34m,\u001b[0m \u001b[0mdtype\u001b[0m\u001b[0;34m=\u001b[0m\u001b[0mdtype\u001b[0m\u001b[0;34m,\u001b[0m \u001b[0mtyp\u001b[0m\u001b[0;34m=\u001b[0m\u001b[0mtyp\u001b[0m\u001b[0;34m,\u001b[0m \u001b[0mconsolidate\u001b[0m\u001b[0;34m=\u001b[0m\u001b[0mcopy\u001b[0m\u001b[0;34m)\u001b[0m\u001b[0;34m\u001b[0m\u001b[0;34m\u001b[0m\u001b[0m\n\u001b[0m\u001b[1;32m    494\u001b[0m \u001b[0;34m\u001b[0m\u001b[0m\n\u001b[1;32m    495\u001b[0m \u001b[0;34m\u001b[0m\u001b[0m\n",
            "\u001b[0;32m/usr/local/lib/python3.10/dist-packages/pandas/core/internals/construction.py\u001b[0m in \u001b[0;36marrays_to_mgr\u001b[0;34m(arrays, columns, index, dtype, verify_integrity, typ, consolidate)\u001b[0m\n\u001b[1;32m    116\u001b[0m         \u001b[0;31m# figure out the index, if necessary\u001b[0m\u001b[0;34m\u001b[0m\u001b[0;34m\u001b[0m\u001b[0m\n\u001b[1;32m    117\u001b[0m         \u001b[0;32mif\u001b[0m \u001b[0mindex\u001b[0m \u001b[0;32mis\u001b[0m \u001b[0;32mNone\u001b[0m\u001b[0;34m:\u001b[0m\u001b[0;34m\u001b[0m\u001b[0;34m\u001b[0m\u001b[0m\n\u001b[0;32m--> 118\u001b[0;31m             \u001b[0mindex\u001b[0m \u001b[0;34m=\u001b[0m \u001b[0m_extract_index\u001b[0m\u001b[0;34m(\u001b[0m\u001b[0marrays\u001b[0m\u001b[0;34m)\u001b[0m\u001b[0;34m\u001b[0m\u001b[0;34m\u001b[0m\u001b[0m\n\u001b[0m\u001b[1;32m    119\u001b[0m         \u001b[0;32melse\u001b[0m\u001b[0;34m:\u001b[0m\u001b[0;34m\u001b[0m\u001b[0;34m\u001b[0m\u001b[0m\n\u001b[1;32m    120\u001b[0m             \u001b[0mindex\u001b[0m \u001b[0;34m=\u001b[0m \u001b[0mensure_index\u001b[0m\u001b[0;34m(\u001b[0m\u001b[0mindex\u001b[0m\u001b[0;34m)\u001b[0m\u001b[0;34m\u001b[0m\u001b[0;34m\u001b[0m\u001b[0m\n",
            "\u001b[0;32m/usr/local/lib/python3.10/dist-packages/pandas/core/internals/construction.py\u001b[0m in \u001b[0;36m_extract_index\u001b[0;34m(data)\u001b[0m\n\u001b[1;32m    667\u001b[0m \u001b[0;34m\u001b[0m\u001b[0m\n\u001b[1;32m    668\u001b[0m             \u001b[0;32mif\u001b[0m \u001b[0mhave_dicts\u001b[0m\u001b[0;34m:\u001b[0m\u001b[0;34m\u001b[0m\u001b[0;34m\u001b[0m\u001b[0m\n\u001b[0;32m--> 669\u001b[0;31m                 raise ValueError(\n\u001b[0m\u001b[1;32m    670\u001b[0m                     \u001b[0;34m\"Mixing dicts with non-Series may lead to ambiguous ordering.\"\u001b[0m\u001b[0;34m\u001b[0m\u001b[0;34m\u001b[0m\u001b[0m\n\u001b[1;32m    671\u001b[0m                 )\n",
            "\u001b[0;31mValueError\u001b[0m: Mixing dicts with non-Series may lead to ambiguous ordering."
          ]
        }
      ]
    }
  ]
}